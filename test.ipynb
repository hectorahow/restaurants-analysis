{
 "cells": [
  {
   "cell_type": "code",
   "execution_count": 2,
   "metadata": {},
   "outputs": [],
   "source": [
    "import pandas as pd"
   ]
  },
  {
   "cell_type": "code",
   "execution_count": 3,
   "metadata": {},
   "outputs": [],
   "source": [
    "df = pd.read_csv('all.csv')"
   ]
  },
  {
   "cell_type": "code",
   "execution_count": 7,
   "metadata": {},
   "outputs": [
    {
     "data": {
      "text/plain": [
       "array(['bar,restaurant,food,point_of_interest,establishment',\n",
       "       'restaurant,food,point_of_interest,establishment',\n",
       "       'meal_takeaway,bar,restaurant,point_of_interest,food,establishment',\n",
       "       'bar,restaurant,point_of_interest,food,establishment',\n",
       "       'bar,meal_takeaway,restaurant,food,point_of_interest,establishment',\n",
       "       'tourist_attraction,aquarium,amusement_park,restaurant,food,point_of_interest,establishment',\n",
       "       'cafe,restaurant,food,store,point_of_interest,establishment',\n",
       "       'cafe,restaurant,food,point_of_interest,establishment', 'overview',\n",
       "       'movie_theater,point_of_interest,establishment',\n",
       "       'lodging,point_of_interest,establishment',\n",
       "       'point_of_interest,establishment',\n",
       "       'store,point_of_interest,establishment',\n",
       "       'night_club,bar,lodging,point_of_interest,establishment'],\n",
       "      dtype=object)"
      ]
     },
     "execution_count": 7,
     "metadata": {},
     "output_type": "execute_result"
    }
   ],
   "source": [
    "df['overview'].unique()"
   ]
  },
  {
   "cell_type": "code",
   "execution_count": null,
   "metadata": {},
   "outputs": [],
   "source": [
    "import json\n",
    "\n",
    "with open('response.json') as f:\n",
    "    data = json.load(f)\n",
    "\n"
   ]
  },
  {
   "cell_type": "code",
   "execution_count": 11,
   "metadata": {},
   "outputs": [
    {
     "data": {
      "text/plain": [
       "'Appetizer was the bread and blue crab corn fritters. The fritters were tasty. Nice outside. Excellent chunks of crab. I liked the sauce for them as well. The kale salad and red fish was great. The fish was cooked perfectly. The fried potatoes salad was a surprise hit. I’ve never seen that item on a menu. My friend got the wedge salad. She loveddd it. Service was amazing as well. Definitely want to go back!'"
      ]
     },
     "execution_count": 11,
     "metadata": {},
     "output_type": "execute_result"
    }
   ],
   "source": [
    "data[\"result\"][\"reviews\"][0]['text']"
   ]
  },
  {
   "cell_type": "code",
   "execution_count": 13,
   "metadata": {},
   "outputs": [],
   "source": [
    "reviews = []\n",
    "for review in data[\"result\"][\"reviews\"]:\n",
    "    reviews.append(review['text'])"
   ]
  },
  {
   "cell_type": "code",
   "execution_count": 15,
   "metadata": {},
   "outputs": [
    {
     "data": {
      "text/plain": [
       "['Appetizer was the bread and blue crab corn fritters. The fritters were tasty. Nice outside. Excellent chunks of crab. I liked the sauce for them as well. The kale salad and red fish was great. The fish was cooked perfectly. The fried potatoes salad was a surprise hit. I’ve never seen that item on a menu. My friend got the wedge salad. She loveddd it. Service was amazing as well. Definitely want to go back!',\n",
       " 'Our experience was excellent, we had a nice window seat and the restaurant was open and airy. We ordered the summer Burratta with focaccia bread and it was very refreshing. Very enjoyable with an amazing vinaigrette dressing. The steak was cooked perfectly and full of flavor. We loved the fact that the oysters were large and full of flavor. Stir fry shrimp had the perfect level of spice it doesn’t come too spicy but you can always add more. The restaurant was kind enough to send us a slice of cake for our anniversary as well. I also have nothing but good things to say about our waiter, Rick. Thanks for your suggestions and taking the time to explain pairings with us.',\n",
       " 'Food and service was great. Only issue is that it’s incredibly overpriced. $8 to add 1/2 an avocado to a salad. Also, they charge for substitutions, even if they are they same price. $2 substitution fee for green beans instead of asparagus. $2 fee for regular mashed potatoes instead of fried potato salad. This is on top of the $46 price for a filet.\\nIf you want to feel extremely nickel and dimed, this is the place to go.',\n",
       " 'Fantastic food, great atmosphere, and amazing service! Our waiter Rick P. went above and beyond his duties! An all-around wonderful experience.',\n",
       " \"This place was excellent\\nThe food was amazing and the ambience is stellar.  We will be back soon and often.  Loved the dress code and the staff's alertness. We had a fantastic time. We were close enough to the Beyonce event that we watched the drone show. You can't beat that. We attended a friend's wedding reception here and it did not disappoint. 👏🏿\"]"
      ]
     },
     "execution_count": 15,
     "metadata": {},
     "output_type": "execute_result"
    }
   ],
   "source": [
    "reviews"
   ]
  }
 ],
 "metadata": {
  "kernelspec": {
   "display_name": ".venv",
   "language": "python",
   "name": "python3"
  },
  "language_info": {
   "codemirror_mode": {
    "name": "ipython",
    "version": 3
   },
   "file_extension": ".py",
   "mimetype": "text/x-python",
   "name": "python",
   "nbconvert_exporter": "python",
   "pygments_lexer": "ipython3",
   "version": "3.10.12"
  }
 },
 "nbformat": 4,
 "nbformat_minor": 2
}
